{
 "cells": [
  {
   "cell_type": "code",
   "execution_count": null,
   "id": "5fdc8dbf",
   "metadata": {},
   "outputs": [],
   "source": [
    "import pandas as pd\n",
    "import plotly.express as px\n",
    "import plotly.graph_objects as go\n",
    "import polars as pl"
   ]
  },
  {
   "cell_type": "code",
   "execution_count": null,
   "id": "57ca8549",
   "metadata": {},
   "outputs": [],
   "source": [
    "data = pd.read_csv(\"../data/ipeds_nsf.csv\")"
   ]
  },
  {
   "cell_type": "code",
   "execution_count": null,
   "id": "17eecb59",
   "metadata": {},
   "outputs": [],
   "source": [
    "# Read the data\n",
    "nsf_ipeds = pl.read_csv(\"../data/ipeds_nsf.csv\")\n",
    "nsf_ipeds = nsf_ipeds.with_columns(pl.when(pl.col(\"Research Activity Designation\")==\"Research 1: Very High Research Spending and Doctorate Production\").then(pl.lit(\"R1\")).otherwise(pl.lit(\"R2\")).alias(\"Research Activity Designation\"))\n",
    "\n",
    "id_uta = 228769\n",
    "id_jhu = 162928\n",
    "# aau = nsf_ipeds.filter(pl.col(\"AAU\"))\n",
    "\n",
    "nsf_avg = nsf_ipeds.group_by(\"UnitID\").agg(\n",
    "    pl.col(\"Institution Name\").first(),\n",
    "    pl.col(\"Year\").first(),\n",
    "    pl.col(\"State abbreviation\").first(),\n",
    "    pl.col(\"FIPS state code\").first(),\n",
    "    pl.col(\"Historically Black College or University\").first(),\n",
    "    pl.col(\"Land Grant Institution\").first(),\n",
    "    pl.col(\"Sector of institution\").first(),\n",
    "    pl.col(\"Degree of urbanization (Urban-centric locale)\").first(),\n",
    "    pl.col(\"Institution grants a medical degree\").first(),\n",
    "    pl.col(\"Carnegie Classification 2021: Basic\").first(),\n",
    "    pl.col(\"control\").first(),\n",
    "    pl.col(\"Institutional Classification\").first(),\n",
    "    pl.col(\"Student Access and Earnings Classification\").first(),\n",
    "    pl.col(\"Research Activity Designation\").first(),\n",
    "    pl.col(\"Award Level Focus\").first(),\n",
    "    pl.col(\"Academic Mix\").first(),\n",
    "    pl.col(\"Graduate Academic Program Mix\").first(),\n",
    "    pl.col(\"Size\").first(),\n",
    "    pl.col(\"Campus Setting\").first(),\n",
    "    pl.col(\"Highest Degree Awarded\").first(),\n",
    "    pl.col(\"Community Engagement\").first(),\n",
    "    pl.col(\"Leadership for Public Practice\").first(),\n",
    "    pl.col(\"AAU\").first(),\n",
    "    pl.col(\"Department of Energy\").mean(),\n",
    "    pl.col(\"National Aeronautics and Space Administration\").mean(),\n",
    "    pl.col(\"Other federal agency\").mean(),\n",
    "    pl.col(\"Nonfederal\").mean(),\n",
    "    pl.col(\"Department of Defense\").mean(),\n",
    "    pl.col(\"National Science Foundation\").mean(),\n",
    "    pl.col(\"Department of Agriculture\").mean(),\n",
    "    pl.col(\"Department of Health and Human Services\").mean(),\n",
    ")\n"
   ]
  },
  {
   "cell_type": "code",
   "execution_count": null,
   "id": "c837fcf6",
   "metadata": {},
   "outputs": [],
   "source": [
    "aau_data = nsf_avg.filter(pl.col(\"AAU\")).with_columns(designation = pl.lit(\"AAU\")).drop([\"AAU\", \"Research Activity Designation\"])\n",
    "carn_data = nsf_avg.with_columns(designation = pl.col(\"Research Activity Designation\")).drop([\"AAU\", \"Research Activity Designation\"])\n"
   ]
  },
  {
   "cell_type": "code",
   "execution_count": null,
   "id": "b24d0249",
   "metadata": {},
   "outputs": [],
   "source": [
    "control_counts_aau = aau_data.group_by([\"designation\", \"control\"]).len().to_pandas()\n",
    "control_counts_aau"
   ]
  },
  {
   "cell_type": "code",
   "execution_count": null,
   "id": "3e4a67b4",
   "metadata": {},
   "outputs": [],
   "source": [
    "control_counts = carn_data.group_by([\"designation\", \"control\"]).len().to_pandas()\n",
    "control_counts"
   ]
  },
  {
   "cell_type": "code",
   "execution_count": null,
   "id": "fe68d145",
   "metadata": {},
   "outputs": [],
   "source": [
    "combined = pd.concat([control_counts, control_counts_aau], ignore_index=True)\n",
    "combined"
   ]
  },
  {
   "cell_type": "code",
   "execution_count": null,
   "id": "44333693",
   "metadata": {},
   "outputs": [],
   "source": [
    "pivot_df = combined.pivot(index=[\"designation\"], columns=\"control\", values=\"len\").fillna(0).reset_index()\n",
    "pivot_df"
   ]
  },
  {
   "cell_type": "code",
   "execution_count": null,
   "id": "5957135d",
   "metadata": {},
   "outputs": [],
   "source": [
    "pivot_df.columns"
   ]
  },
  {
   "cell_type": "code",
   "execution_count": null,
   "id": "4809d2e2",
   "metadata": {},
   "outputs": [],
   "source": [
    "# Melt to long format\n",
    "df_melted = pivot_df.melt(\n",
    "    id_vars=\"designation\",\n",
    "    var_name=\"Control\",\n",
    "    value_name=\"Count\"\n",
    ")\n",
    "df_melted"
   ]
  },
  {
   "cell_type": "code",
   "execution_count": null,
   "id": "7d826030",
   "metadata": {},
   "outputs": [],
   "source": [
    "# Calculate proportions\n",
    "df_melted[\"Proportion\"] = df_melted.groupby(\"designation\")[\"Count\"].transform(lambda x: x / x.sum())\n"
   ]
  },
  {
   "cell_type": "code",
   "execution_count": null,
   "id": "9647a80e",
   "metadata": {},
   "outputs": [],
   "source": [
    "# Plot the stacked bar chart\n",
    "fig = px.bar(\n",
    "    df_melted,\n",
    "    x=\"designation\",\n",
    "    y=\"Proportion\",\n",
    "    color=\"Control\",\n",
    "    text=\"Count\",\n",
    "    title=\"Proportion of Public vs Private Institutions\",\n",
    "    width=1000,\n",
    ")\n",
    "\n",
    "fig.update_layout(barmode=\"stack\", yaxis_tickformat=\".0%\")\n",
    "fig.show()"
   ]
  },
  {
   "cell_type": "code",
   "execution_count": null,
   "id": "cd4d7908",
   "metadata": {},
   "outputs": [],
   "source": [
    "size_counts = carn_data.group_by([\"designation\", \"Size\"]).len().to_pandas()\n",
    "size_counts_aau = aau_data.group_by([\"designation\", \"Size\"]).len().to_pandas()"
   ]
  },
  {
   "cell_type": "code",
   "execution_count": null,
   "id": "d62113a7",
   "metadata": {},
   "outputs": [],
   "source": [
    "combined = pd.concat([size_counts, size_counts_aau], ignore_index=True)"
   ]
  },
  {
   "cell_type": "code",
   "execution_count": null,
   "id": "48a29cd1",
   "metadata": {},
   "outputs": [],
   "source": [
    "size_order = [\"Very Small\", \"Small\", \"Medium\", \"Large\", \"Very Large\"]\n",
    "combined[\"Size\"] = pd.Categorical(combined[\"Size\"], categories=size_order, ordered=True)\n",
    "combined"
   ]
  },
  {
   "cell_type": "code",
   "execution_count": null,
   "id": "746d1fe8",
   "metadata": {},
   "outputs": [],
   "source": [
    "# Sort by Size\n",
    "combined_sorted = combined.sort_values(\"Size\")\n",
    "combined_sorted"
   ]
  },
  {
   "cell_type": "code",
   "execution_count": null,
   "id": "a1ac3abb",
   "metadata": {},
   "outputs": [],
   "source": [
    "combined_sorted[\"Proportions\"] = combined_sorted.groupby(\"designation\")[\"len\"].transform(lambda x: x / x.sum())\n",
    "combined_sorted"
   ]
  },
  {
   "cell_type": "code",
   "execution_count": null,
   "id": "fc859e9c",
   "metadata": {},
   "outputs": [],
   "source": [
    "# Plot the stacked bar chart\n",
    "fig = px.bar(\n",
    "    combined_sorted,\n",
    "    x=\"designation\",\n",
    "    y=\"Proportions\",\n",
    "    color=\"Size\",\n",
    "    text=\"len\",\n",
    "    title=\"Size Proportions\",\n",
    "    width=1000,\n",
    ")\n",
    "\n",
    "fig.update_layout(barmode=\"stack\", yaxis_tickformat=\".0%\")\n",
    "fig.show()"
   ]
  },
  {
   "cell_type": "code",
   "execution_count": null,
   "id": "41b66724",
   "metadata": {},
   "outputs": [],
   "source": [
    "medical_counts = carn_data.group_by([\"designation\", \"Institution grants a medical degree\"]).len().to_pandas()\n",
    "medical_counts_aau = aau_data.group_by([\"designation\", \"Institution grants a medical degree\"]).len().to_pandas()"
   ]
  },
  {
   "cell_type": "code",
   "execution_count": null,
   "id": "e0bad7cf",
   "metadata": {},
   "outputs": [],
   "source": [
    "combined = pd.concat([medical_counts, medical_counts_aau], ignore_index=True)\n",
    "combined"
   ]
  },
  {
   "cell_type": "code",
   "execution_count": null,
   "id": "ad2b6afc",
   "metadata": {},
   "outputs": [],
   "source": [
    "combined[\"Proportions\"] = combined.groupby(\"designation\")[\"len\"].transform(lambda x: x / x.sum())\n",
    "combined"
   ]
  },
  {
   "cell_type": "code",
   "execution_count": null,
   "id": "fe446dff",
   "metadata": {},
   "outputs": [],
   "source": [
    "combined[\"Institution grants a medical degree\"] = combined[\"Institution grants a medical degree\"].map({1: \"Yes\", 2: \"No\"})"
   ]
  },
  {
   "cell_type": "code",
   "execution_count": null,
   "id": "9f04c5d8",
   "metadata": {},
   "outputs": [],
   "source": [
    "combined"
   ]
  },
  {
   "cell_type": "code",
   "execution_count": null,
   "id": "1224da93",
   "metadata": {},
   "outputs": [],
   "source": [
    "# Plot the stacked bar chart\n",
    "fig = px.bar(\n",
    "    combined,\n",
    "    x=\"designation\",\n",
    "    y=\"Proportions\",\n",
    "    color=\"Institution grants a medical degree\",\n",
    "    text=\"len\",\n",
    "    title=\"Institution grants a medical degree\",\n",
    "    width=1000,\n",
    ")\n",
    "\n",
    "fig.update_layout(barmode=\"stack\", yaxis_tickformat=\".0%\")\n",
    "fig.show()"
   ]
  },
  {
   "cell_type": "code",
   "execution_count": null,
   "id": "a281cb34",
   "metadata": {},
   "outputs": [],
   "source": [
    "funding_columns = [\n",
    "    \"Department of Energy\",\n",
    "    \"National Aeronautics and Space Administration\",\n",
    "    \"Department of Defense\",\n",
    "    \"National Science Foundation\",\n",
    "    \"Department of Health and Human Services\",\n",
    "    \"Other federal agency\",\n",
    "    \"Department of Agriculture\",\n",
    "    \"Nonfederal\",\n",
    "]\n",
    "\n",
    "# Map full names to abbreviations\n",
    "abbreviated_labels = [\n",
    "    \"DOE\", \"NASA\", \"DOD\", \"NSF\", \"HHS\",   \"Other Fed\", \"USDA\",\"Nonfed\",\n",
    "]"
   ]
  },
  {
   "cell_type": "code",
   "execution_count": null,
   "id": "06b35b29",
   "metadata": {},
   "outputs": [],
   "source": [
    "aau_data_avg = aau_data.to_pandas()[funding_columns].mean()\n",
    "r1_data_avg = carn_data.filter(pl.col(\"designation\") == \"R1\").to_pandas()[funding_columns].mean()\n",
    "r2_data_avg = carn_data.filter(pl.col(\"designation\") == \"R2\").to_pandas()[funding_columns].mean()"
   ]
  },
  {
   "cell_type": "code",
   "execution_count": null,
   "id": "6bd68865",
   "metadata": {},
   "outputs": [],
   "source": [
    "r2_data_avg"
   ]
  },
  {
   "cell_type": "code",
   "execution_count": null,
   "id": "8d83f29d",
   "metadata": {},
   "outputs": [],
   "source": [
    "aau_means = aau_data_avg*1000\n",
    "r1_means = r1_data_avg*1000\n",
    "r2_means = r2_data_avg*1000"
   ]
  },
  {
   "cell_type": "code",
   "execution_count": null,
   "id": "642192dc",
   "metadata": {},
   "outputs": [],
   "source": [
    "# Create comparison bar chart\n",
    "fig = go.Figure()\n",
    "\n",
    "fig.add_trace(go.Bar(\n",
    "    x=abbreviated_labels,\n",
    "    y=aau_means,\n",
    "    name=\"AAU Average\",\n",
    "    marker_color=\"royalblue\",\n",
    "))\n",
    "\n",
    "fig.add_trace(go.Bar(\n",
    "    x=abbreviated_labels,\n",
    "    y=r1_means,\n",
    "    name=\"R1 Average\",\n",
    "    marker_color=\"seagreen\",\n",
    "))\n",
    "\n",
    "fig.add_trace(go.Bar(\n",
    "    x=abbreviated_labels,\n",
    "    y=r2_means,\n",
    "    name=\"R2 Average\",\n",
    "    marker_color=\"red\",\n",
    "))\n",
    "\n",
    "fig.update_layout(\n",
    "    title=\"Comparison of Average Research Funding\",\n",
    "    xaxis_title=\"Funding Source\",\n",
    "    yaxis_title=\"Average Funding Amount ($)\",\n",
    "    barmode=\"group\",\n",
    "    xaxis_tickangle=-45,\n",
    "    height=600,\n",
    "    width = 1000,\n",
    ")\n",
    "\n",
    "fig.show()"
   ]
  },
  {
   "cell_type": "code",
   "execution_count": null,
   "id": "cd499ed2",
   "metadata": {},
   "outputs": [],
   "source": [
    "funding_columns = [\n",
    "    \"Department of Energy\",\n",
    "    \"National Aeronautics and Space Administration\",\n",
    "    \"Other federal agency\",\n",
    "    \"Department of Defense\",\n",
    "    \"National Science Foundation\",\n",
    "    \"Department of Health and Human Services\",\n",
    "    \"Department of Agriculture\",\n",
    "    \"Nonfederal\",\n",
    "]"
   ]
  },
  {
   "cell_type": "code",
   "execution_count": null,
   "id": "1c8fbcdd",
   "metadata": {},
   "outputs": [],
   "source": [
    "# Calculate total funding metrics\n",
    "total_funding_cols_w_doa = funding_columns[:-1]\n",
    "total_funding_cols_wo_doa = funding_columns[:-2]"
   ]
  },
  {
   "cell_type": "code",
   "execution_count": null,
   "id": "9d67d706",
   "metadata": {},
   "outputs": [],
   "source": [
    "df = carn_data.filter(pl.col(\"designation\") == \"R1\").to_pandas()\n",
    "# Compute total columns\n",
    "df[\"Total (with DOA)\"] = df[total_funding_cols_w_doa].sum(axis=1)\n",
    "df[\"Total (without DOA)\"] = df[total_funding_cols_wo_doa].sum(axis=1)\n",
    "\n",
    "# Add total columns to the list for analysis\n",
    "all_metrics = [*funding_columns, \"Total (with DOA)\", \"Total (without DOA)\"]"
   ]
  },
  {
   "cell_type": "code",
   "execution_count": null,
   "id": "82870cda",
   "metadata": {},
   "outputs": [],
   "source": [
    "df[df[\"Institution Name\"]==\"The University of Texas at El Paso\"][all_metrics]"
   ]
  },
  {
   "cell_type": "code",
   "execution_count": null,
   "id": "7e839973",
   "metadata": {},
   "outputs": [],
   "source": [
    "categorical_columns = [\n",
    "    \"Historically Black College or University\", \"Land Grant Institution\",\n",
    "    \"Sector of institution\", \"Degree of urbanization (Urban-centric locale)\",\n",
    "    \"Institution grants a medical degree\", \"control\", \"Institutional Classification\",\n",
    "    \"Student Access and Earnings Classification\",\n",
    "    \"Award Level Focus\", \"Academic Mix\", \"Graduate Academic Program Mix\",\n",
    "    \"Size\", \"Campus Setting\", \"Highest Degree Awarded\",\n",
    "]"
   ]
  },
  {
   "cell_type": "code",
   "execution_count": null,
   "id": "76334f7b",
   "metadata": {},
   "outputs": [],
   "source": [
    "df[\"designation\"].head()"
   ]
  },
  {
   "cell_type": "code",
   "execution_count": null,
   "id": "710f73cd",
   "metadata": {},
   "outputs": [],
   "source": [
    "# Create a pipeline for preprocessing\n",
    "# Process categorical data\n",
    "from sklearn.discriminant_analysis import StandardScaler\n",
    "\n",
    "\n",
    "cat_features = [col for col in categorical_columns if col in df.columns]\n",
    "# Handle missing values in categorical features if any\n",
    "for col in cat_features:\n",
    "    df[col] = df[col].fillna(\"Unknown\")\n",
    "\n",
    "# One-hot encode categorical features\n",
    "encoded_cats = pd.get_dummies(df[cat_features], drop_first=False)\n",
    "\n",
    "\n",
    "# Scale numerical features\n",
    "scaler = StandardScaler()\n",
    "scaled_nums = pd.DataFrame(\n",
    "    scaler.fit_transform(df[all_metrics]),\n",
    "    columns=all_metrics,\n",
    "    index=df.index,\n",
    ")\n",
    "\n",
    "# Combine processed features\n",
    "processed_df = pd.concat([scaled_nums, encoded_cats], axis=1)"
   ]
  },
  {
   "cell_type": "code",
   "execution_count": null,
   "id": "4b382b51",
   "metadata": {},
   "outputs": [],
   "source": [
    "processed_df.head()"
   ]
  },
  {
   "cell_type": "code",
   "execution_count": null,
   "id": "e6385674",
   "metadata": {},
   "outputs": [],
   "source": [
    "processed_df.columns"
   ]
  },
  {
   "cell_type": "code",
   "execution_count": null,
   "id": "c01544b3",
   "metadata": {},
   "outputs": [],
   "source": [
    "# Perform K-means clustering\n",
    "# Determine optimal number of clusters using the elbow method\n",
    "from sklearn.cluster import KMeans\n",
    "\n",
    "\n",
    "inertia_values = []\n",
    "k_range = range(2, min(10, len(processed_df) - 1))\n",
    "for k in k_range:\n",
    "    kmeans = KMeans(n_clusters=k, random_state=42)\n",
    "    kmeans.fit(processed_df)\n",
    "    inertia_values.append(kmeans.inertia_)\n",
    "\n",
    "# Plot elbow method\n",
    "fig_elbow = px.line(\n",
    "    x=list(k_range), y=inertia_values,\n",
    "    title=\"Elbow Method for Optimal k\",\n",
    "    labels={\"x\": \"Number of Clusters (k)\", \"y\": \"Inertia\"},\n",
    ")\n",
    "fig_elbow.add_shape(\n",
    "    type=\"line\",\n",
    "    line={\"dash\": \"dash\", \"color\": \"gray\"},\n",
    "    x0=4, y0=min(inertia_values), x1=4, y1=max(inertia_values),\n",
    ")\n"
   ]
  },
  {
   "cell_type": "code",
   "execution_count": null,
   "id": "8df516b7",
   "metadata": {},
   "outputs": [],
   "source": [
    "# Choose k based on elbow method (for now, let's assume k=4)\n",
    "from sklearn.decomposition import PCA\n",
    "\n",
    "\n",
    "k_optimal = 3\n",
    "kmeans = KMeans(n_clusters=k_optimal, random_state=42)\n",
    "df[\"Cluster\"] = kmeans.fit_predict(processed_df)\n",
    "\n",
    "# Add cluster information to original data\n",
    "uta_cluster = df.loc[df[\"UnitID\"] == id_uta, \"Cluster\"].values[0]\n",
    "\n",
    "# Perform PCA for visualization\n",
    "pca = PCA(n_components=2)  # noqa: F821\n",
    "pca_result = pca.fit_transform(processed_df)\n",
    "df[\"PCA1\"] = pca_result[:, 0]\n",
    "df[\"PCA2\"] = pca_result[:, 1]\n",
    "\n",
    "# Create scatter plot with PCA\n",
    "fig_pca = px.scatter(\n",
    "    df, x=\"PCA1\", y=\"PCA2\", color=\"Cluster\",\n",
    "    hover_data=[\"Institution Name\"],\n",
    "    title=\"University Clusters based on PCA\",\n",
    "    labels={\"PCA1\": \"Principal Component 1\", \"PCA2\": \"Principal Component 2\"},\n",
    "    color_continuous_scale=px.colors.qualitative.Set1,\n",
    ")\n",
    "\n",
    "# Highlight UTA in the plot if it exists\n",
    "uta_point = df[df[\"UnitID\"] == id_uta]\n",
    "fig_pca.add_trace(\n",
    "    go.Scatter(\n",
    "        x=uta_point[\"PCA1\"],\n",
    "        y=uta_point[\"PCA2\"],\n",
    "        mode=\"markers\",\n",
    "        marker={\n",
    "            \"color\": \"black\",\n",
    "            \"size\": 15,\n",
    "            \"line\": {\"width\": 2, \"color\": \"black\"},\n",
    "        },\n",
    "        name=\"UTA\",\n",
    "        hoverinfo=\"text\",\n",
    "        text=uta_point[\"Institution Name\"],\n",
    "    ),\n",
    ")\n",
    "\n",
    "fig_pca.show()\n"
   ]
  },
  {
   "cell_type": "code",
   "execution_count": null,
   "id": "336d401e",
   "metadata": {},
   "outputs": [],
   "source": [
    "cluster_summary = df.groupby(\"Cluster\")[categorical_columns].agg(lambda x: x.value_counts().index[0])\n",
    "print(cluster_summary.loc[uta_cluster])"
   ]
  },
  {
   "cell_type": "code",
   "execution_count": null,
   "id": "0ee1bf70",
   "metadata": {},
   "outputs": [],
   "source": [
    "cluster_summary = df.groupby(\"Cluster\")[all_metrics].agg(lambda x: x.mean())\n",
    "print(cluster_summary.loc[uta_cluster])"
   ]
  },
  {
   "cell_type": "code",
   "execution_count": null,
   "id": "2c269211",
   "metadata": {},
   "outputs": [],
   "source": [
    "df[df[\"Institution Name\"]==\"The University of Texas at El Paso\"][all_metrics]"
   ]
  }
 ],
 "metadata": {
  "kernelspec": {
   "display_name": ".venv",
   "language": "python",
   "name": "python3"
  },
  "language_info": {
   "codemirror_mode": {
    "name": "ipython",
    "version": 3
   },
   "file_extension": ".py",
   "mimetype": "text/x-python",
   "name": "python",
   "nbconvert_exporter": "python",
   "pygments_lexer": "ipython3",
   "version": "3.11.10"
  }
 },
 "nbformat": 4,
 "nbformat_minor": 5
}
